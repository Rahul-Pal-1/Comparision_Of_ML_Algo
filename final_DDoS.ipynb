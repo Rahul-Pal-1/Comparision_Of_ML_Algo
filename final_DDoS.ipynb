{
  "nbformat": 4,
  "nbformat_minor": 0,
  "metadata": {
    "colab": {
      "provenance": [],
      "toc_visible": true,
      "authorship_tag": "ABX9TyMWKOvsF/rS/q2YuXmZ48jF",
      "include_colab_link": true
    },
    "kernelspec": {
      "name": "python3",
      "display_name": "Python 3"
    },
    "language_info": {
      "name": "python"
    }
  },
  "cells": [
    {
      "cell_type": "markdown",
      "metadata": {
        "id": "view-in-github",
        "colab_type": "text"
      },
      "source": [
        "<a href=\"https://colab.research.google.com/github/Rahul-Pal-1/Test/blob/main/final_DDoS.ipynb\" target=\"_parent\"><img src=\"https://colab.research.google.com/assets/colab-badge.svg\" alt=\"Open In Colab\"/></a>"
      ]
    },
    {
      "cell_type": "code",
      "execution_count": null,
      "metadata": {
        "id": "sy_3WKiX5zhy"
      },
      "outputs": [],
      "source": [
        "import pandas as pd\n",
        "import numpy as np\n",
        "from sklearn.model_selection import train_test_split\n",
        "from sklearn.preprocessing import StandardScaler\n",
        "from sklearn.svm import SVC\n",
        "import matplotlib.pyplot as plt\n",
        "from sklearn.metrics import classification_report\n",
        "from sklearn.metrics import accuracy_score\n",
        "from sklearn.metrics import confusion_matrix\n",
        "from sklearn.neighbors import KNeighborsClassifier\n",
        "from sklearn.naive_bayes import GaussianNB\n",
        "from sklearn.metrics import f1_score\n",
        "from sklearn.ensemble import RandomForestClassifier\n",
        "from scipy.io import arff"
      ]
    },
    {
      "cell_type": "code",
      "source": [
        "from google.colab import drive\n",
        "drive.mount('/content/drive', force_remount=True)"
      ],
      "metadata": {
        "colab": {
          "base_uri": "https://localhost:8080/"
        },
        "id": "mEBgrtY0kVsF",
        "outputId": "d62ab2ef-73d1-4454-f930-973cf07e0e4d"
      },
      "execution_count": null,
      "outputs": [
        {
          "output_type": "stream",
          "name": "stdout",
          "text": [
            "Mounted at /content/drive\n"
          ]
        }
      ]
    },
    {
      "cell_type": "code",
      "source": [
        "file = arff.loadarff(\"/content/drive/MyDrive/final-dataset.arff\")\n",
        "data = pd.DataFrame(file[0])\n",
        "df = data.sample(n=400000,random_state=12)"
      ],
      "metadata": {
        "id": "Nb2QUKT4c9mq"
      },
      "execution_count": null,
      "outputs": []
    },
    {
      "cell_type": "code",
      "source": [
        "data.PKT_CLASS"
      ],
      "metadata": {
        "colab": {
          "base_uri": "https://localhost:8080/"
        },
        "id": "CPzvJXZ9ifyr",
        "outputId": "08b1fbbc-b6fd-4713-824d-7560e0a095ea"
      },
      "execution_count": null,
      "outputs": [
        {
          "output_type": "execute_result",
          "data": {
            "text/plain": [
              "0             b'Normal'\n",
              "1             b'Normal'\n",
              "2          b'UDP-Flood'\n",
              "3             b'Normal'\n",
              "4             b'Normal'\n",
              "               ...     \n",
              "2160663       b'Normal'\n",
              "2160664       b'Normal'\n",
              "2160665       b'Normal'\n",
              "2160666       b'Normal'\n",
              "2160667       b'Normal'\n",
              "Name: PKT_CLASS, Length: 2160668, dtype: object"
            ]
          },
          "metadata": {},
          "execution_count": 4
        }
      ]
    },
    {
      "cell_type": "code",
      "source": [
        "# cnt = 0\n",
        "# for i in data:\n",
        "#   print(data[i]).where(data['PKT_CLASS'] != \"b'Normal'\")"
      ],
      "metadata": {
        "id": "J188lNuzmJoF"
      },
      "execution_count": null,
      "outputs": []
    },
    {
      "cell_type": "code",
      "source": [
        "data['PKT_CLASS'].value_counts()"
      ],
      "metadata": {
        "colab": {
          "base_uri": "https://localhost:8080/"
        },
        "id": "hCGaxk4JiLxG",
        "outputId": "6d0fdda9-b6e1-43b5-d42b-325b3bdb5d18"
      },
      "execution_count": null,
      "outputs": [
        {
          "output_type": "execute_result",
          "data": {
            "text/plain": [
              "b'Normal'        1935959\n",
              "b'UDP-Flood'      201344\n",
              "b'Smurf'           12590\n",
              "b'SIDDOS'           6665\n",
              "b'HTTP-FLOOD'       4110\n",
              "Name: PKT_CLASS, dtype: int64"
            ]
          },
          "metadata": {},
          "execution_count": 6
        }
      ]
    },
    {
      "cell_type": "code",
      "source": [
        "# df['PKT_CLASS'].value_counts()"
      ],
      "metadata": {
        "id": "72R7DLkXOFHX"
      },
      "execution_count": null,
      "outputs": []
    },
    {
      "cell_type": "code",
      "source": [
        "# df['PKT_CLASS'].value_counts().plot(kind='bar')"
      ],
      "metadata": {
        "id": "xHa7syaaO0iX"
      },
      "execution_count": null,
      "outputs": []
    },
    {
      "cell_type": "code",
      "source": [
        "data['PKT_CLASS'].value_counts().plot(kind='bar')"
      ],
      "metadata": {
        "colab": {
          "base_uri": "https://localhost:8080/",
          "height": 358
        },
        "id": "FxJ6lEXxmHqs",
        "outputId": "66de3820-6936-4487-9f2f-da9f22491941"
      },
      "execution_count": null,
      "outputs": [
        {
          "output_type": "execute_result",
          "data": {
            "text/plain": [
              "<matplotlib.axes._subplots.AxesSubplot at 0x7effeaa610d0>"
            ]
          },
          "metadata": {},
          "execution_count": 9
        },
        {
          "output_type": "display_data",
          "data": {
            "text/plain": [
              "<Figure size 432x288 with 1 Axes>"
            ],
            "image/png": "[encoded data removed]"
          },
          "metadata": {
            "needs_background": "light"
          }
        }
      ]
    },
    {
      "cell_type": "code",
      "source": [],
      "metadata": {
        "id": "OCIrtu9HvBpR"
      },
      "execution_count": null,
      "outputs": []
    },
    {
      "cell_type": "code",
      "source": [
        "data"
      ],
      "metadata": {
        "id": "xuD49VYYqj5i",
        "colab": {
          "base_uri": "https://localhost:8080/",
          "height": 661
        },
        "outputId": "d8358dd1-fd80-4f60-8d6a-194cfd672224"
      },
      "execution_count": null,
      "outputs": [
        {
          "output_type": "execute_result",
          "data": {
            "text/plain": [
              "         SRC_ADD  DES_ADD    PKT_ID  FROM_NODE  TO_NODE PKT_TYPE  PKT_SIZE  \\\n",
              "0           3.00    24.30  389693.0       21.0     23.0   b'tcp'    1540.0   \n",
              "1          15.00    24.15  201196.0       23.0     24.0   b'tcp'    1540.0   \n",
              "2          24.15    15.00   61905.0       23.0     22.0   b'ack'      55.0   \n",
              "3          24.90     9.00  443135.0       23.0     21.0   b'ack'      55.0   \n",
              "4          24.80     8.00  157335.0       23.0     21.0   b'ack'      55.0   \n",
              "...          ...      ...       ...        ...      ...      ...       ...   \n",
              "2160663    24.10    10.00   43184.0       22.0     10.0   b'ack'      55.0   \n",
              "2160664    24.12    12.00  376386.0       23.0     22.0   b'ack'      55.0   \n",
              "2160665     1.00    24.10  140121.0       21.0     23.0   b'tcp'    1540.0   \n",
              "2160666     5.00    24.50   26800.0        5.0     21.0   b'tcp'    1540.0   \n",
              "2160667    15.00    24.15  549560.0       22.0     23.0   b'tcp'    1540.0   \n",
              "\n",
              "              FLAGS   FID  SEQ_NUMBER  ...    PKT_RATE  BYTE_RATE  \\\n",
              "0        b'-------'   4.0     11339.0  ...  328.240918   505490.0   \n",
              "1        b'-------'  16.0      6274.0  ...  328.205808   505437.0   \n",
              "2        b'-------'  16.0      1930.0  ...  328.206042    18051.3   \n",
              "3        b'-------'  10.0     12670.0  ...  328.064183    18043.5   \n",
              "4        b'-------'   9.0      4901.0  ...  328.113525    18046.2   \n",
              "...             ...   ...         ...  ...         ...        ...   \n",
              "2160663  b'-------'  11.0      1343.0  ...  328.561918    18070.9   \n",
              "2160664  b'-------'  13.0     10991.0  ...  328.491596    18067.0   \n",
              "2160665  b'-------'   2.0      4374.0  ...  328.297855   505578.0   \n",
              "2160666  b'-------'   6.0       832.0  ...  328.204637   505434.0   \n",
              "2160667  b'-------'  16.0     15367.0  ...  328.205808   505437.0   \n",
              "\n",
              "        PKT_AVG_SIZE UTILIZATION  PKT_DELAY  PKT_SEND_TIME  PKT_RESEVED_TIME  \\\n",
              "0             1540.0    0.236321        0.0      35.519662         35.550032   \n",
              "1             1540.0    0.236337        0.0      20.156478         20.186848   \n",
              "2               55.0    0.008441        0.0       7.039952          7.069962   \n",
              "3               55.0    0.008437        0.0      39.617967         39.647976   \n",
              "4               55.0    0.008438        0.0      16.029803         16.059813   \n",
              "...              ...         ...        ...            ...               ...   \n",
              "2160663         55.0    0.008446        0.0       5.275034          5.305043   \n",
              "2160664         55.0    0.008446        0.0      34.498646         34.528655   \n",
              "2160665       1540.0    0.236321        0.0      14.407888         14.438258   \n",
              "2160666       1540.0    0.236321        0.0       3.732227          3.762597   \n",
              "2160667       1540.0    0.236337        0.0      47.782367         47.812736   \n",
              "\n",
              "         FIRST_PKT_SENT  LAST_PKT_RESEVED     PKT_CLASS  \n",
              "0              1.000000         50.021920     b'Normal'  \n",
              "1              1.000000         50.030211     b'Normal'  \n",
              "2              1.030045         50.060221  b'UDP-Flood'  \n",
              "3              1.030058         50.060098     b'Normal'  \n",
              "4              1.030054         50.061864     b'Normal'  \n",
              "...                 ...               ...           ...  \n",
              "2160663        1.030013         50.040562     b'Normal'  \n",
              "2160664        1.030026         50.051067     b'Normal'  \n",
              "2160665        1.000000         50.013418     b'Normal'  \n",
              "2160666        1.000000         50.027339     b'Normal'  \n",
              "2160667        1.000000         50.030211     b'Normal'  \n",
              "\n",
              "[2160668 rows x 28 columns]"
            ],
            "text/html": [
              "\n",
              "  <div id=\"df-53a23136-97e2-4812-86d7-7049c943e382\">\n",
              "    <div class=\"colab-df-container\">\n",
              "      <div>\n",
              "<style scoped>\n",
              "    .dataframe tbody tr th:only-of-type {\n",
              "        vertical-align: middle;\n",
              "    }\n",
              "\n",
              "    .dataframe tbody tr th {\n",
              "        vertical-align: top;\n",
              "    }\n",
              "\n",
              "    .dataframe thead th {\n",
              "        text-align: right;\n",
              "    }\n",
              "</style>\n",
              "<table border=\"1\" class=\"dataframe\">\n",
              "  <thead>\n",
              "    <tr style=\"text-align: right;\">\n",
              "      <th></th>\n",
              "      <th>SRC_ADD</th>\n",
              "      <th>DES_ADD</th>\n",
              "      <th>PKT_ID</th>\n",
              "      <th>FROM_NODE</th>\n",
              "      <th>TO_NODE</th>\n",
              "      <th>PKT_TYPE</th>\n",
              "      <th>PKT_SIZE</th>\n",
              "      <th>FLAGS</th>\n",
              "      <th>FID</th>\n",
              "      <th>SEQ_NUMBER</th>\n",
              "      <th>...</th>\n",
              "      <th>PKT_RATE</th>\n",
              "      <th>BYTE_RATE</th>\n",
              "      <th>PKT_AVG_SIZE</th>\n",
              "      <th>UTILIZATION</th>\n",
              "      <th>PKT_DELAY</th>\n",
              "      <th>PKT_SEND_TIME</th>\n",
              "      <th>PKT_RESEVED_TIME</th>\n",
              "      <th>FIRST_PKT_SENT</th>\n",
              "      <th>LAST_PKT_RESEVED</th>\n",
              "      <th>PKT_CLASS</th>\n",
              "    </tr>\n",
              "  </thead>\n",
              "  <tbody>\n",
              "    <tr>\n",
              "      <th>0</th>\n",
              "      <td>3.00</td>\n",
              "      <td>24.30</td>\n",
              "      <td>389693.0</td>\n",
              "      <td>21.0</td>\n",
              "      <td>23.0</td>\n",
              "      <td>b'tcp'</td>\n",
              "      <td>1540.0</td>\n",
              "      <td>b'-------'</td>\n",
              "      <td>4.0</td>\n",
              "      <td>11339.0</td>\n",
              "      <td>...</td>\n",
              "      <td>328.240918</td>\n",
              "      <td>505490.0</td>\n",
              "      <td>1540.0</td>\n",
              "      <td>0.236321</td>\n",
              "      <td>0.0</td>\n",
              "      <td>35.519662</td>\n",
              "      <td>35.550032</td>\n",
              "      <td>1.000000</td>\n",
              "      <td>50.021920</td>\n",
              "      <td>b'Normal'</td>\n",
              "    </tr>\n",
              "    <tr>\n",
              "      <th>1</th>\n",
              "      <td>15.00</td>\n",
              "      <td>24.15</td>\n",
              "      <td>201196.0</td>\n",
              "      <td>23.0</td>\n",
              "      <td>24.0</td>\n",
              "      <td>b'tcp'</td>\n",
              "      <td>1540.0</td>\n",
              "      <td>b'-------'</td>\n",
              "      <td>16.0</td>\n",
              "      <td>6274.0</td>\n",
              "      <td>...</td>\n",
              "      <td>328.205808</td>\n",
              "      <td>505437.0</td>\n",
              "      <td>1540.0</td>\n",
              "      <td>0.236337</td>\n",
              "      <td>0.0</td>\n",
              "      <td>20.156478</td>\n",
              "      <td>20.186848</td>\n",
              "      <td>1.000000</td>\n",
              "      <td>50.030211</td>\n",
              "      <td>b'Normal'</td>\n",
              "    </tr>\n",
              "    <tr>\n",
              "      <th>2</th>\n",
              "      <td>24.15</td>\n",
              "      <td>15.00</td>\n",
              "      <td>61905.0</td>\n",
              "      <td>23.0</td>\n",
              "      <td>22.0</td>\n",
              "      <td>b'ack'</td>\n",
              "      <td>55.0</td>\n",
              "      <td>b'-------'</td>\n",
              "      <td>16.0</td>\n",
              "      <td>1930.0</td>\n",
              "      <td>...</td>\n",
              "      <td>328.206042</td>\n",
              "      <td>18051.3</td>\n",
              "      <td>55.0</td>\n",
              "      <td>0.008441</td>\n",
              "      <td>0.0</td>\n",
              "      <td>7.039952</td>\n",
              "      <td>7.069962</td>\n",
              "      <td>1.030045</td>\n",
              "      <td>50.060221</td>\n",
              "      <td>b'UDP-Flood'</td>\n",
              "    </tr>\n",
              "    <tr>\n",
              "      <th>3</th>\n",
              "      <td>24.90</td>\n",
              "      <td>9.00</td>\n",
              "      <td>443135.0</td>\n",
              "      <td>23.0</td>\n",
              "      <td>21.0</td>\n",
              "      <td>b'ack'</td>\n",
              "      <td>55.0</td>\n",
              "      <td>b'-------'</td>\n",
              "      <td>10.0</td>\n",
              "      <td>12670.0</td>\n",
              "      <td>...</td>\n",
              "      <td>328.064183</td>\n",
              "      <td>18043.5</td>\n",
              "      <td>55.0</td>\n",
              "      <td>0.008437</td>\n",
              "      <td>0.0</td>\n",
              "      <td>39.617967</td>\n",
              "      <td>39.647976</td>\n",
              "      <td>1.030058</td>\n",
              "      <td>50.060098</td>\n",
              "      <td>b'Normal'</td>\n",
              "    </tr>\n",
              "    <tr>\n",
              "      <th>4</th>\n",
              "      <td>24.80</td>\n",
              "      <td>8.00</td>\n",
              "      <td>157335.0</td>\n",
              "      <td>23.0</td>\n",
              "      <td>21.0</td>\n",
              "      <td>b'ack'</td>\n",
              "      <td>55.0</td>\n",
              "      <td>b'-------'</td>\n",
              "      <td>9.0</td>\n",
              "      <td>4901.0</td>\n",
              "      <td>...</td>\n",
              "      <td>328.113525</td>\n",
              "      <td>18046.2</td>\n",
              "      <td>55.0</td>\n",
              "      <td>0.008438</td>\n",
              "      <td>0.0</td>\n",
              "      <td>16.029803</td>\n",
              "      <td>16.059813</td>\n",
              "      <td>1.030054</td>\n",
              "      <td>50.061864</td>\n",
              "      <td>b'Normal'</td>\n",
              "    </tr>\n",
              "    <tr>\n",
              "      <th>...</th>\n",
              "      <td>...</td>\n",
              "      <td>...</td>\n",
              "      <td>...</td>\n",
              "      <td>...</td>\n",
              "      <td>...</td>\n",
              "      <td>...</td>\n",
              "      <td>...</td>\n",
              "      <td>...</td>\n",
              "      <td>...</td>\n",
              "      <td>...</td>\n",
              "      <td>...</td>\n",
              "      <td>...</td>\n",
              "      <td>...</td>\n",
              "      <td>...</td>\n",
              "      <td>...</td>\n",
              "      <td>...</td>\n",
              "      <td>...</td>\n",
              "      <td>...</td>\n",
              "      <td>...</td>\n",
              "      <td>...</td>\n",
              "      <td>...</td>\n",
              "    </tr>\n",
              "    <tr>\n",
              "      <th>2160663</th>\n",
              "      <td>24.10</td>\n",
              "      <td>10.00</td>\n",
              "      <td>43184.0</td>\n",
              "      <td>22.0</td>\n",
              "      <td>10.0</td>\n",
              "      <td>b'ack'</td>\n",
              "      <td>55.0</td>\n",
              "      <td>b'-------'</td>\n",
              "      <td>11.0</td>\n",
              "      <td>1343.0</td>\n",
              "      <td>...</td>\n",
              "      <td>328.561918</td>\n",
              "      <td>18070.9</td>\n",
              "      <td>55.0</td>\n",
              "      <td>0.008446</td>\n",
              "      <td>0.0</td>\n",
              "      <td>5.275034</td>\n",
              "      <td>5.305043</td>\n",
              "      <td>1.030013</td>\n",
              "      <td>50.040562</td>\n",
              "      <td>b'Normal'</td>\n",
              "    </tr>\n",
              "    <tr>\n",
              "      <th>2160664</th>\n",
              "      <td>24.12</td>\n",
              "      <td>12.00</td>\n",
              "      <td>376386.0</td>\n",
              "      <td>23.0</td>\n",
              "      <td>22.0</td>\n",
              "      <td>b'ack'</td>\n",
              "      <td>55.0</td>\n",
              "      <td>b'-------'</td>\n",
              "      <td>13.0</td>\n",
              "      <td>10991.0</td>\n",
              "      <td>...</td>\n",
              "      <td>328.491596</td>\n",
              "      <td>18067.0</td>\n",
              "      <td>55.0</td>\n",
              "      <td>0.008446</td>\n",
              "      <td>0.0</td>\n",
              "      <td>34.498646</td>\n",
              "      <td>34.528655</td>\n",
              "      <td>1.030026</td>\n",
              "      <td>50.051067</td>\n",
              "      <td>b'Normal'</td>\n",
              "    </tr>\n",
              "    <tr>\n",
              "      <th>2160665</th>\n",
              "      <td>1.00</td>\n",
              "      <td>24.10</td>\n",
              "      <td>140121.0</td>\n",
              "      <td>21.0</td>\n",
              "      <td>23.0</td>\n",
              "      <td>b'tcp'</td>\n",
              "      <td>1540.0</td>\n",
              "      <td>b'-------'</td>\n",
              "      <td>2.0</td>\n",
              "      <td>4374.0</td>\n",
              "      <td>...</td>\n",
              "      <td>328.297855</td>\n",
              "      <td>505578.0</td>\n",
              "      <td>1540.0</td>\n",
              "      <td>0.236321</td>\n",
              "      <td>0.0</td>\n",
              "      <td>14.407888</td>\n",
              "      <td>14.438258</td>\n",
              "      <td>1.000000</td>\n",
              "      <td>50.013418</td>\n",
              "      <td>b'Normal'</td>\n",
              "    </tr>\n",
              "    <tr>\n",
              "      <th>2160666</th>\n",
              "      <td>5.00</td>\n",
              "      <td>24.50</td>\n",
              "      <td>26800.0</td>\n",
              "      <td>5.0</td>\n",
              "      <td>21.0</td>\n",
              "      <td>b'tcp'</td>\n",
              "      <td>1540.0</td>\n",
              "      <td>b'-------'</td>\n",
              "      <td>6.0</td>\n",
              "      <td>832.0</td>\n",
              "      <td>...</td>\n",
              "      <td>328.204637</td>\n",
              "      <td>505434.0</td>\n",
              "      <td>1540.0</td>\n",
              "      <td>0.236321</td>\n",
              "      <td>0.0</td>\n",
              "      <td>3.732227</td>\n",
              "      <td>3.762597</td>\n",
              "      <td>1.000000</td>\n",
              "      <td>50.027339</td>\n",
              "      <td>b'Normal'</td>\n",
              "    </tr>\n",
              "    <tr>\n",
              "      <th>2160667</th>\n",
              "      <td>15.00</td>\n",
              "      <td>24.15</td>\n",
              "      <td>549560.0</td>\n",
              "      <td>22.0</td>\n",
              "      <td>23.0</td>\n",
              "      <td>b'tcp'</td>\n",
              "      <td>1540.0</td>\n",
              "      <td>b'-------'</td>\n",
              "      <td>16.0</td>\n",
              "      <td>15367.0</td>\n",
              "      <td>...</td>\n",
              "      <td>328.205808</td>\n",
              "      <td>505437.0</td>\n",
              "      <td>1540.0</td>\n",
              "      <td>0.236337</td>\n",
              "      <td>0.0</td>\n",
              "      <td>47.782367</td>\n",
              "      <td>47.812736</td>\n",
              "      <td>1.000000</td>\n",
              "      <td>50.030211</td>\n",
              "      <td>b'Normal'</td>\n",
              "    </tr>\n",
              "  </tbody>\n",
              "</table>\n",
              "<p>2160668 rows × 28 columns</p>\n",
              "</div>\n",
              "      <button class=\"colab-df-convert\" onclick=\"convertToInteractive('df-53a23136-97e2-4812-86d7-7049c943e382')\"\n",
              "              title=\"Convert this dataframe to an interactive table.\"\n",
              "              style=\"display:none;\">\n",
              "        \n",
              "  <svg xmlns=\"http://www.w3.org/2000/svg\" height=\"24px\"viewBox=\"0 0 24 24\"\n",
              "       width=\"24px\">\n",
              "    <path d=\"M0 0h24v24H0V0z\" fill=\"none\"/>\n",
              "    <path d=\"M18.56 5.44l.94 2.06.94-2.06 2.06-.94-2.06-.94-.94-2.06-.94 2.06-2.06.94zm-11 1L8.5 8.5l.94-2.06 2.06-.94-2.06-.94L8.5 2.5l-.94 2.06-2.06.94zm10 10l.94 2.06.94-2.06 2.06-.94-2.06-.94-.94-2.06-.94 2.06-2.06.94z\"/><path d=\"M17.41 7.96l-1.37-1.37c-.4-.4-.92-.59-1.43-.59-.52 0-1.04.2-1.43.59L10.3 9.45l-7.72 7.72c-.78.78-.78 2.05 0 2.83L4 21.41c.39.39.9.59 1.41.59.51 0 1.02-.2 1.41-.59l7.78-7.78 2.81-2.81c.8-.78.8-2.07 0-2.86zM5.41 20L4 18.59l7.72-7.72 1.47 1.35L5.41 20z\"/>\n",
              "  </svg>\n",
              "      </button>\n",
              "      \n",
              "  <style>\n",
              "    .colab-df-container {\n",
              "      display:flex;\n",
              "      flex-wrap:wrap;\n",
              "      gap: 12px;\n",
              "    }\n",
              "\n",
              "    .colab-df-convert {\n",
              "      background-color: #E8F0FE;\n",
              "      border: none;\n",
              "      border-radius: 50%;\n",
              "      cursor: pointer;\n",
              "      display: none;\n",
              "      fill: #1967D2;\n",
              "      height: 32px;\n",
              "      padding: 0 0 0 0;\n",
              "      width: 32px;\n",
              "    }\n",
              "\n",
              "    .colab-df-convert:hover {\n",
              "      background-color: #E2EBFA;\n",
              "      box-shadow: 0px 1px 2px rgba(60, 64, 67, 0.3), 0px 1px 3px 1px rgba(60, 64, 67, 0.15);\n",
              "      fill: #174EA6;\n",
              "    }\n",
              "\n",
              "    [theme=dark] .colab-df-convert {\n",
              "      background-color: #3B4455;\n",
              "      fill: #D2E3FC;\n",
              "    }\n",
              "\n",
              "    [theme=dark] .colab-df-convert:hover {\n",
              "      background-color: #434B5C;\n",
              "      box-shadow: 0px 1px 3px 1px rgba(0, 0, 0, 0.15);\n",
              "      filter: drop-shadow(0px 1px 2px rgba(0, 0, 0, 0.3));\n",
              "      fill: #FFFFFF;\n",
              "    }\n",
              "  </style>\n",
              "\n",
              "      <script>\n",
              "        const buttonEl =\n",
              "          document.querySelector('#df-53a23136-97e2-4812-86d7-7049c943e382 button.colab-df-convert');\n",
              "        buttonEl.style.display =\n",
              "          google.colab.kernel.accessAllowed ? 'block' : 'none';\n",
              "\n",
              "        async function convertToInteractive(key) {\n",
              "          const element = document.querySelector('#df-53a23136-97e2-4812-86d7-7049c943e382');\n",
              "          const dataTable =\n",
              "            await google.colab.kernel.invokeFunction('convertToInteractive',\n",
              "                                                     [key], {});\n",
              "          if (!dataTable) return;\n",
              "\n",
              "          const docLinkHtml = 'Like what you see? Visit the ' +\n",
              "            '<a target=\"_blank\" href=https://colab.research.google.com/notebooks/data_table.ipynb>data table notebook</a>'\n",
              "            + ' to learn more about interactive tables.';\n",
              "          element.innerHTML = '';\n",
              "          dataTable['output_type'] = 'display_data';\n",
              "          await google.colab.output.renderOutput(dataTable, element);\n",
              "          const docLink = document.createElement('div');\n",
              "          docLink.innerHTML = docLinkHtml;\n",
              "          element.appendChild(docLink);\n",
              "        }\n",
              "      </script>\n",
              "    </div>\n",
              "  </div>\n",
              "  "
            ]
          },
          "metadata": {},
          "execution_count": 10
        }
      ]
    },
    {
      "cell_type": "code",
      "source": [
        "# data.columns"
      ],
      "metadata": {
        "id": "SdTZh3gSodeX"
      },
      "execution_count": null,
      "outputs": []
    },
    {
      "cell_type": "code",
      "source": [
        "# pd.set_option('max_column', None)\n",
        "# pd.set_option('max_row', 20)\n",
        "# data"
      ],
      "metadata": {
        "id": "JWmg8K0H3bfb"
      },
      "execution_count": null,
      "outputs": []
    },
    {
      "cell_type": "code",
      "source": [
        "# data.dtypes"
      ],
      "metadata": {
        "id": "_r8XwLbzx-tD"
      },
      "execution_count": null,
      "outputs": []
    },
    {
      "cell_type": "code",
      "source": [
        "from sklearn.preprocessing import LabelEncoder\n",
        "le = LabelEncoder();\n",
        "label = le.fit_transform(df['PKT_CLASS'])\n"
      ],
      "metadata": {
        "id": "OQ_O20uBg0nK"
      },
      "execution_count": null,
      "outputs": []
    },
    {
      "cell_type": "code",
      "source": [
        "label.size"
      ],
      "metadata": {
        "id": "AyZCucvche9r",
        "colab": {
          "base_uri": "https://localhost:8080/"
        },
        "outputId": "ddbad8d6-5b38-42c6-e30e-f6869b128916"
      },
      "execution_count": null,
      "outputs": [
        {
          "output_type": "execute_result",
          "data": {
            "text/plain": [
              "array([1, 1, 1, ..., 1, 1, 1])"
            ]
          },
          "metadata": {},
          "execution_count": 15
        }
      ]
    },
    {
      "cell_type": "code",
      "source": [
        "labels=np.array(df[\"PKT_CLASS\"])\n",
        "val=np.array(data[0:-1])"
      ],
      "metadata": {
        "id": "skvqlLRSXqER"
      },
      "execution_count": null,
      "outputs": []
    },
    {
      "cell_type": "code",
      "source": [
        "# value=pd.DataFrame(val) # to make value a data frame of data in val so that we can use data frame function\n",
        "# vals=val.drop(['PKT_TYPE', 'FLAGS', 'NODE_NAME_FROM', 'NODE_NAME_TO', 'PKT_CLASS'], axis=1)\n",
        "\n",
        "\n",
        "value=df.drop(['PKT_TYPE', 'FLAGS', 'NODE_NAME_FROM', 'NODE_NAME_TO', 'PKT_CLASS'], axis=1)\n",
        "vals=np.array(value)"
      ],
      "metadata": {
        "id": "Y8s-E91vZP3N"
      },
      "execution_count": null,
      "outputs": []
    },
    {
      "cell_type": "code",
      "source": [
        "vals\n"
      ],
      "metadata": {
        "colab": {
          "base_uri": "https://localhost:8080/"
        },
        "id": "jUMfMPKsZ0W1",
        "outputId": "9301248c-9b1b-4e5f-ab24-73ba5f96df7b"
      },
      "execution_count": null,
      "outputs": [
        {
          "output_type": "execute_result",
          "data": {
            "text/plain": [
              "array([[2.4500000e+01, 5.0000000e+00, 3.7235500e+05, ..., 3.4220226e+01,\n",
              "        1.0300420e+00, 5.0057349e+01],\n",
              "       [1.0000000e-01, 2.4200000e+01, 6.2637000e+05, ..., 6.8990240e+01,\n",
              "        2.5000000e+01, 7.5022240e+01],\n",
              "       [3.0000000e+00, 2.4300000e+01, 5.6119000e+05, ..., 4.8704594e+01,\n",
              "        1.0000000e+00, 5.0021920e+01],\n",
              "       ...,\n",
              "       [2.4800000e+01, 8.0000000e+00, 2.2083000e+05, ..., 2.2036118e+01,\n",
              "        1.0300540e+00, 5.0061864e+01],\n",
              "       [2.0000000e+00, 2.4200000e+01, 1.6864800e+05, ..., 1.7124926e+01,\n",
              "        1.0000000e+00, 5.0018467e+01],\n",
              "       [9.1000000e+00, 2.4290000e+01, 2.6883800e+05, ..., 2.6279723e+01,\n",
              "        2.5000000e+01, 7.5023680e+01]])"
            ]
          },
          "metadata": {},
          "execution_count": 18
        }
      ]
    },
    {
      "cell_type": "code",
      "source": [
        "# val\n",
        "labels"
      ],
      "metadata": {
        "colab": {
          "base_uri": "https://localhost:8080/"
        },
        "id": "AMbvHZMZYzNt",
        "outputId": "5e1088c5-0c18-4313-995a-7b5918756306"
      },
      "execution_count": null,
      "outputs": [
        {
          "output_type": "execute_result",
          "data": {
            "text/plain": [
              "array([b'Normal', b'Normal', b'Normal', ..., b'Normal', b'Normal',\n",
              "       b'Normal'], dtype=object)"
            ]
          },
          "metadata": {},
          "execution_count": 19
        }
      ]
    },
    {
      "cell_type": "code",
      "source": [
        "# for lab in data:\n",
        "#   print(lab[0:-1])"
      ],
      "metadata": {
        "id": "rNd1aRaKWYCl"
      },
      "execution_count": null,
      "outputs": []
    },
    {
      "cell_type": "code",
      "source": [
        "# vals=[val[0:-1] for val in data[]]\n",
        "# labels=[lab[-1] for lab in data]"
      ],
      "metadata": {
        "id": "YuKEclGgl4cq"
      },
      "execution_count": null,
      "outputs": []
    },
    {
      "cell_type": "code",
      "source": [
        "# labels"
      ],
      "metadata": {
        "id": "svzhidTDWMBe"
      },
      "execution_count": null,
      "outputs": []
    },
    {
      "cell_type": "code",
      "source": [
        "# for i in labels:\n",
        "#   print(type(i))"
      ],
      "metadata": {
        "id": "qmI57mzWUgnT"
      },
      "execution_count": null,
      "outputs": []
    },
    {
      "cell_type": "code",
      "source": [
        "# da=set(labels)\n",
        "# brac=600\n",
        "# templ=[]\n",
        "# tempd=[]\n",
        "# for i in da:\n",
        "#   con=0\n",
        "#   while con<brac:\n",
        "#     for j in range(len(labels)):\n",
        "#       if labels[j]:\n",
        "#         templ.append(labels[j])\n",
        "#         tempd.append(vals[j])\n",
        "#         con+=1\n",
        "#       if con == brac:\n",
        "#         break\n",
        "# vals=tempd\n",
        "# labels=templ"
      ],
      "metadata": {
        "id": "rdyFKJmjmeVi"
      },
      "execution_count": null,
      "outputs": []
    },
    {
      "cell_type": "code",
      "source": [
        "# l=len(vals)\n",
        "# print(l)"
      ],
      "metadata": {
        "id": "VbRdTlkBuJxC"
      },
      "execution_count": null,
      "outputs": []
    },
    {
      "cell_type": "code",
      "source": [
        "X_train,X_test,Y_train,Y_test=train_test_split(vals,label,stratify=label,test_size=.2,random_state=0)"
      ],
      "metadata": {
        "id": "Vv45GemauVlx"
      },
      "execution_count": null,
      "outputs": []
    },
    {
      "cell_type": "code",
      "source": [
        "# X_train1 = pd.DataFrame(Y_train)"
      ],
      "metadata": {
        "id": "KSCWrnDQS2Dp"
      },
      "execution_count": null,
      "outputs": []
    },
    {
      "cell_type": "code",
      "source": [
        "# Y_train"
      ],
      "metadata": {
        "id": "t3ZgV-wJTW3i"
      },
      "execution_count": null,
      "outputs": []
    },
    {
      "cell_type": "code",
      "source": [
        "# X_train2 = X_train1.drop(['PKT_TYPE', 'FLAGS', 'NODE_NAME_FROM', 'NODE_NAME_TO'], axis=1)"
      ],
      "metadata": {
        "id": "gPXPrWe-P85o"
      },
      "execution_count": null,
      "outputs": []
    },
    {
      "cell_type": "code",
      "source": [
        "# tstlen=len(X_train1)\n",
        "# print(tstlen)"
      ],
      "metadata": {
        "id": "X30Ie9yHRxT1"
      },
      "execution_count": null,
      "outputs": []
    },
    {
      "cell_type": "code",
      "source": [
        "scaler=StandardScaler()\n",
        "x_train=scaler.fit_transform(X_train)\n",
        "x_test=scaler.transform(X_test)\n",
        "y_train=np.array(Y_train)\n",
        "y_test=np.array(Y_test)"
      ],
      "metadata": {
        "id": "0wP8Gvw8uxQ6"
      },
      "execution_count": null,
      "outputs": []
    },
    {
      "cell_type": "code",
      "source": [
        "# y_test.value_counts()"
      ],
      "metadata": {
        "colab": {
          "base_uri": "https://localhost:8080/",
          "height": 165
        },
        "id": "EN6OEc7PkNNI",
        "outputId": "d23edbc3-096c-4014-f1bb-2ec67c2e4865"
      },
      "execution_count": null,
      "outputs": [
        {
          "output_type": "error",
          "ename": "AttributeError",
          "evalue": "ignored",
          "traceback": [
            "\u001b[0;31m---------------------------------------------------------------------------\u001b[0m",
            "\u001b[0;31mAttributeError\u001b[0m                            Traceback (most recent call last)",
            "\u001b[0;32m<ipython-input-32-2820df361543>\u001b[0m in \u001b[0;36m<module>\u001b[0;34m\u001b[0m\n\u001b[0;32m----> 1\u001b[0;31m \u001b[0my_test\u001b[0m\u001b[0;34m.\u001b[0m\u001b[0mvalue_counts\u001b[0m\u001b[0;34m(\u001b[0m\u001b[0;34m)\u001b[0m\u001b[0;34m\u001b[0m\u001b[0;34m\u001b[0m\u001b[0m\n\u001b[0m",
            "\u001b[0;31mAttributeError\u001b[0m: 'numpy.ndarray' object has no attribute 'value_counts'"
          ]
        }
      ]
    },
    {
      "cell_type": "code",
      "source": [
        "print(len(X_train), len(x_train), len(Y_train), len(X_test), len(x_test), len(Y_test))"
      ],
      "metadata": {
        "id": "NUdWxU2Tp5Vu",
        "colab": {
          "base_uri": "https://localhost:8080/"
        },
        "outputId": "7fb6ef91-d2c0-4a4e-95df-876b61dfb5ad"
      },
      "execution_count": null,
      "outputs": [
        {
          "output_type": "stream",
          "name": "stdout",
          "text": [
            "320000 320000 320000 80000 80000 80000\n"
          ]
        }
      ]
    },
    {
      "cell_type": "code",
      "source": [
        "pd.set_option('max_row', None)\n",
        "# value.dtypes  # ans get is all float 64\n",
        "labels.dtype"
      ],
      "metadata": {
        "id": "8D2WPWr2bmnF",
        "colab": {
          "base_uri": "https://localhost:8080/"
        },
        "outputId": "17aee9f3-0d7c-40a0-a7ca-9a05e2d67a37"
      },
      "execution_count": null,
      "outputs": [
        {
          "output_type": "execute_result",
          "data": {
            "text/plain": [
              "dtype('O')"
            ]
          },
          "metadata": {},
          "execution_count": 34
        }
      ]
    },
    {
      "cell_type": "code",
      "source": [
        "from sklearn.tree import DecisionTreeClassifier\n",
        "\n",
        "model=DecisionTreeClassifier()\n",
        "model.fit(x_train,y_train)\n"
      ],
      "metadata": {
        "id": "2_hzqAeYwcxD",
        "colab": {
          "base_uri": "https://localhost:8080/"
        },
        "outputId": "8d2b0168-e65f-4405-8615-799e687f60c2"
      },
      "execution_count": null,
      "outputs": [
        {
          "output_type": "execute_result",
          "data": {
            "text/plain": [
              "DecisionTreeClassifier()"
            ]
          },
          "metadata": {},
          "execution_count": 35
        }
      ]
    },
    {
      "cell_type": "code",
      "source": [
        "y_pred=model.predict(x_test)"
      ],
      "metadata": {
        "id": "Eg1Zprodw2pQ"
      },
      "execution_count": null,
      "outputs": []
    },
    {
      "cell_type": "code",
      "source": [
        "cm= confusion_matrix(y_test, y_pred)\n",
        "cm"
      ],
      "metadata": {
        "colab": {
          "base_uri": "https://localhost:8080/"
        },
        "id": "PVH9Kr3qagSx",
        "outputId": "eb5a3154-1dfd-4455-8370-c88301ad6928"
      },
      "execution_count": null,
      "outputs": [
        {
          "output_type": "execute_result",
          "data": {
            "text/plain": [
              "array([[  145,     2,     6,     2,     0],\n",
              "       [    4, 70492,    20,   363,   790],\n",
              "       [    6,    23,   202,    14,     1],\n",
              "       [    0,   317,    10,   148,     1],\n",
              "       [    0,   718,     0,     2,  6734]])"
            ]
          },
          "metadata": {},
          "execution_count": 37
        }
      ]
    },
    {
      "cell_type": "code",
      "source": [
        "print(classification_report(y_test, y_pred))"
      ],
      "metadata": {
        "colab": {
          "base_uri": "https://localhost:8080/"
        },
        "id": "aMDHByoUd58w",
        "outputId": "2e837193-18be-40d2-ebd5-672dde7639bb"
      },
      "execution_count": null,
      "outputs": [
        {
          "output_type": "stream",
          "name": "stdout",
          "text": [
            "              precision    recall  f1-score   support\n",
            "\n",
            "           0       0.94      0.94      0.94       155\n",
            "           1       0.99      0.98      0.98     71669\n",
            "           2       0.85      0.82      0.83       246\n",
            "           3       0.28      0.31      0.29       476\n",
            "           4       0.89      0.90      0.90      7454\n",
            "\n",
            "    accuracy                           0.97     80000\n",
            "   macro avg       0.79      0.79      0.79     80000\n",
            "weighted avg       0.97      0.97      0.97     80000\n",
            "\n"
          ]
        }
      ]
    },
    {
      "cell_type": "code",
      "source": [
        "# from sklearn.metrics import f1_score\n",
        "# f1_score(y_test, y_pred, average='weighted')"
      ],
      "metadata": {
        "id": "t2NAWrcKP1GG"
      },
      "execution_count": null,
      "outputs": []
    },
    {
      "cell_type": "code",
      "source": [
        "print((accuracy_score(y_pred,y_test))*100,'%')"
      ],
      "metadata": {
        "id": "u326JcsNw_Pg",
        "colab": {
          "base_uri": "https://localhost:8080/"
        },
        "outputId": "651d5a4d-b386-4e21-ab1f-e903f53390c2"
      },
      "execution_count": null,
      "outputs": [
        {
          "output_type": "stream",
          "name": "stdout",
          "text": [
            "97.15125 %\n"
          ]
        }
      ]
    },
    {
      "cell_type": "code",
      "source": [
        "clf=SVC(kernel=\"rbf\")\n",
        "clf.fit(x_train,y_train)"
      ],
      "metadata": {
        "id": "nnAOlDR6S6X1",
        "colab": {
          "base_uri": "https://localhost:8080/"
        },
        "outputId": "b15cc03c-be6f-4049-ecd0-ed809966f41d"
      },
      "execution_count": null,
      "outputs": [
        {
          "output_type": "execute_result",
          "data": {
            "text/plain": [
              "SVC()"
            ]
          },
          "metadata": {},
          "execution_count": 45
        }
      ]
    },
    {
      "cell_type": "code",
      "source": [
        "y_pred=clf.predict(x_test)"
      ],
      "metadata": {
        "id": "qh444LrNT5od"
      },
      "execution_count": null,
      "outputs": []
    },
    {
      "cell_type": "code",
      "source": [
        "cm= confusion_matrix(y_test, y_pred)\n",
        "cm"
      ],
      "metadata": {
        "colab": {
          "base_uri": "https://localhost:8080/"
        },
        "id": "TaN7O6WPeuxW",
        "outputId": "c4f00a12-0c07-4f91-fecf-35f6baf283e6"
      },
      "execution_count": null,
      "outputs": [
        {
          "output_type": "execute_result",
          "data": {
            "text/plain": [
              "array([[  145,     0,     6,     4,     0],\n",
              "       [    4, 71658,     7,     0,     0],\n",
              "       [    0,    13,   233,     0,     0],\n",
              "       [    0,   318,    12,   146,     0],\n",
              "       [    0,   725,     0,     0,  6729]])"
            ]
          },
          "metadata": {},
          "execution_count": 47
        }
      ]
    },
    {
      "cell_type": "code",
      "source": [
        "print((accuracy_score(y_pred,y_test))*100,'%')"
      ],
      "metadata": {
        "id": "hMe1qqNxT8Mk",
        "colab": {
          "base_uri": "https://localhost:8080/"
        },
        "outputId": "9738fafe-dfc5-4bfa-be2e-da2299583c38"
      },
      "execution_count": null,
      "outputs": [
        {
          "output_type": "stream",
          "name": "stdout",
          "text": [
            "98.63875 %\n"
          ]
        }
      ]
    },
    {
      "cell_type": "code",
      "source": [
        "print(classification_report(y_test, y_pred))"
      ],
      "metadata": {
        "colab": {
          "base_uri": "https://localhost:8080/"
        },
        "id": "fryGtA2g1aWs",
        "outputId": "b9ac4320-7289-4f72-ead7-1aa868d8a560"
      },
      "execution_count": null,
      "outputs": [
        {
          "output_type": "stream",
          "name": "stdout",
          "text": [
            "              precision    recall  f1-score   support\n",
            "\n",
            "           0       0.97      0.94      0.95       155\n",
            "           1       0.99      1.00      0.99     71669\n",
            "           2       0.90      0.95      0.92       246\n",
            "           3       0.97      0.31      0.47       476\n",
            "           4       1.00      0.90      0.95      7454\n",
            "\n",
            "    accuracy                           0.99     80000\n",
            "   macro avg       0.97      0.82      0.86     80000\n",
            "weighted avg       0.99      0.99      0.99     80000\n",
            "\n"
          ]
        }
      ]
    },
    {
      "cell_type": "code",
      "source": [
        "classifier= KNeighborsClassifier(n_neighbors=5, metric='minkowski', p=2 )\n",
        "classifier.fit(x_train, y_train)"
      ],
      "metadata": {
        "colab": {
          "base_uri": "https://localhost:8080/"
        },
        "id": "VnmCpXrxWGun",
        "outputId": "042405ba-526f-43d0-ec25-d5e58139f61c"
      },
      "execution_count": null,
      "outputs": [
        {
          "output_type": "execute_result",
          "data": {
            "text/plain": [
              "KNeighborsClassifier()"
            ]
          },
          "metadata": {},
          "execution_count": 40
        }
      ]
    },
    {
      "cell_type": "code",
      "source": [
        "y_pred= classifier.predict(x_test)\n"
      ],
      "metadata": {
        "id": "U57miJ1oXMr1"
      },
      "execution_count": null,
      "outputs": []
    },
    {
      "cell_type": "code",
      "source": [
        "print((accuracy_score(y_pred,y_test))*100,'%')\n"
      ],
      "metadata": {
        "colab": {
          "base_uri": "https://localhost:8080/"
        },
        "id": "YFxW8-d2Z_st",
        "outputId": "1112d462-5536-4d78-8e7c-8ab92a0eae0e"
      },
      "execution_count": null,
      "outputs": [
        {
          "output_type": "stream",
          "name": "stdout",
          "text": [
            "98.6275 %\n"
          ]
        }
      ]
    },
    {
      "cell_type": "code",
      "source": [
        "cm= confusion_matrix(y_test, y_pred)\n",
        "cm"
      ],
      "metadata": {
        "colab": {
          "base_uri": "https://localhost:8080/"
        },
        "id": "qumpVq5IXiuB",
        "outputId": "a5033e89-b0b4-464a-c416-fa12309416e6"
      },
      "execution_count": null,
      "outputs": [
        {
          "output_type": "execute_result",
          "data": {
            "text/plain": [
              "array([[  137,     2,     6,    10,     0],\n",
              "       [    4, 71658,     7,     0,     0],\n",
              "       [    0,    14,   232,     0,     0],\n",
              "       [    0,   318,    12,   146,     0],\n",
              "       [    0,   725,     0,     0,  6729]])"
            ]
          },
          "metadata": {},
          "execution_count": 43
        }
      ]
    },
    {
      "cell_type": "code",
      "source": [
        "print(classification_report(y_test, y_pred))"
      ],
      "metadata": {
        "colab": {
          "base_uri": "https://localhost:8080/"
        },
        "id": "tu2sjuYHclbr",
        "outputId": "99ef2ad7-fbfa-4a33-8e81-74d66f8ff1ea"
      },
      "execution_count": null,
      "outputs": [
        {
          "output_type": "stream",
          "name": "stdout",
          "text": [
            "              precision    recall  f1-score   support\n",
            "\n",
            "           0       0.97      0.88      0.93       155\n",
            "           1       0.99      1.00      0.99     71669\n",
            "           2       0.90      0.94      0.92       246\n",
            "           3       0.94      0.31      0.46       476\n",
            "           4       1.00      0.90      0.95      7454\n",
            "\n",
            "    accuracy                           0.99     80000\n",
            "   macro avg       0.96      0.81      0.85     80000\n",
            "weighted avg       0.99      0.99      0.99     80000\n",
            "\n"
          ]
        }
      ]
    },
    {
      "cell_type": "code",
      "source": [
        "Gclassifier = GaussianNB()\n",
        "Gclassifier.fit(x_train, y_train)"
      ],
      "metadata": {
        "colab": {
          "base_uri": "https://localhost:8080/"
        },
        "id": "FAIBX44Y1qe6",
        "outputId": "055558fe-fe37-45c2-c0cf-c0c6516784d4"
      },
      "execution_count": null,
      "outputs": [
        {
          "output_type": "execute_result",
          "data": {
            "text/plain": [
              "GaussianNB()"
            ]
          },
          "metadata": {},
          "execution_count": 52
        }
      ]
    },
    {
      "cell_type": "code",
      "source": [
        "y_pred = Gclassifier.predict(x_test)"
      ],
      "metadata": {
        "id": "31J3Hpk92k27"
      },
      "execution_count": null,
      "outputs": []
    },
    {
      "cell_type": "code",
      "source": [
        "print((accuracy_score(y_pred,y_test))*100,'%')"
      ],
      "metadata": {
        "colab": {
          "base_uri": "https://localhost:8080/"
        },
        "id": "0TexVq6d2zfB",
        "outputId": "b0da7d74-bdda-484d-8053-34163d1c4b08"
      },
      "execution_count": null,
      "outputs": [
        {
          "output_type": "stream",
          "name": "stdout",
          "text": [
            "96.95125 %\n"
          ]
        }
      ]
    },
    {
      "cell_type": "code",
      "source": [
        "cm= confusion_matrix(y_test, y_pred)\n",
        "cm"
      ],
      "metadata": {
        "colab": {
          "base_uri": "https://localhost:8080/"
        },
        "id": "t3hhTvij23p7",
        "outputId": "5e6b8825-0fa2-4046-e72c-55be738b48e3"
      },
      "execution_count": null,
      "outputs": [
        {
          "output_type": "execute_result",
          "data": {
            "text/plain": [
              "array([[  149,     0,     6,     0,     0],\n",
              "       [   11, 70443,     9,  1204,     2],\n",
              "       [    0,    13,   230,     3,     0],\n",
              "       [  146,   308,    12,    10,     0],\n",
              "       [    0,   718,     0,     7,  6729]])"
            ]
          },
          "metadata": {},
          "execution_count": 55
        }
      ]
    },
    {
      "cell_type": "code",
      "source": [
        "print(classification_report(y_test, y_pred))\n"
      ],
      "metadata": {
        "colab": {
          "base_uri": "https://localhost:8080/"
        },
        "id": "_ewsmiW027uG",
        "outputId": "232bd82f-cf8e-4802-f0e4-f89b4101bf17"
      },
      "execution_count": null,
      "outputs": [
        {
          "output_type": "stream",
          "name": "stdout",
          "text": [
            "              precision    recall  f1-score   support\n",
            "\n",
            "           0       0.49      0.96      0.65       155\n",
            "           1       0.99      0.98      0.98     71669\n",
            "           2       0.89      0.93      0.91       246\n",
            "           3       0.01      0.02      0.01       476\n",
            "           4       1.00      0.90      0.95      7454\n",
            "\n",
            "    accuracy                           0.97     80000\n",
            "   macro avg       0.68      0.76      0.70     80000\n",
            "weighted avg       0.98      0.97      0.97     80000\n",
            "\n"
          ]
        }
      ]
    }
  ]
}